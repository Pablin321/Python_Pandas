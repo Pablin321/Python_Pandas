{
  "nbformat": 4,
  "nbformat_minor": 0,
  "metadata": {
    "colab": {
      "provenance": [],
      "authorship_tag": "ABX9TyOR2vcxSsnVbrKUBVT9p3yo",
      "include_colab_link": true
    },
    "kernelspec": {
      "name": "python3",
      "display_name": "Python 3"
    },
    "language_info": {
      "name": "python"
    }
  },
  "cells": [
    {
      "cell_type": "markdown",
      "metadata": {
        "id": "view-in-github",
        "colab_type": "text"
      },
      "source": [
        "<a href=\"https://colab.research.google.com/github/Pablin321/Python_Pandas/blob/main/primeiro_exemplo.ipynb\" target=\"_parent\"><img src=\"https://colab.research.google.com/assets/colab-badge.svg\" alt=\"Open In Colab\"/></a>"
      ]
    },
    {
      "cell_type": "markdown",
      "source": [
        "Primeiro exemplo de manipulação de Dados usando PythonPandas\n",
        "\n",
        "Autor: Pablo Souza Martins\n",
        "\n",
        "Data: 6 de fevereiro de 2023"
      ],
      "metadata": {
        "id": "d7v6PqGqUaQB"
      }
    },
    {
      "cell_type": "code",
      "execution_count": 3,
      "metadata": {
        "id": "q8HJwPZWC1P7"
      },
      "outputs": [],
      "source": [
        "# Importando biblioteca pandas no Python\n",
        "import pandas as pd \n",
        "\n",
        "combustiveis_df = pd.read_excel(\"ca-2021-02.xlsx\")"
      ]
    },
    {
      "cell_type": "code",
      "source": [
        "print(combustiveis_df)"
      ],
      "metadata": {
        "id": "5yaWNUQeBH3y"
      },
      "execution_count": null,
      "outputs": []
    },
    {
      "cell_type": "code",
      "source": [
        "display(combustiveis_df)"
      ],
      "metadata": {
        "id": "aga7lpPkCIgT"
      },
      "execution_count": null,
      "outputs": []
    },
    {
      "cell_type": "code",
      "source": [
        "#exibe as primeiras 5 linhas\n",
        "display(combustiveis_df.head())"
      ],
      "metadata": {
        "id": "ZcdVKQ6ZE_n0"
      },
      "execution_count": null,
      "outputs": []
    },
    {
      "cell_type": "code",
      "source": [
        "#quero na verdade exbir as primeiras 15 linhas\n",
        "display(combustiveis_df.head(15))"
      ],
      "metadata": {
        "id": "ytVv1OUAFrup"
      },
      "execution_count": null,
      "outputs": []
    },
    {
      "cell_type": "code",
      "source": [
        "#comando dataframe.shape() e dataframe.describe()\n",
        "print(combustiveis_df.shape)\n",
        "#mostra o numero de linhas e colunas"
      ],
      "metadata": {
        "id": "Ccw-vTWIGucN"
      },
      "execution_count": null,
      "outputs": []
    },
    {
      "cell_type": "code",
      "source": [
        "print(combustiveis_df.describe())\n",
        "#exibe varias informações da tabela"
      ],
      "metadata": {
        "id": "EXl6UmXTJIpF"
      },
      "execution_count": null,
      "outputs": []
    },
    {
      "cell_type": "code",
      "source": [
        "#info retorna quais sao as colunas e os tipos de dados de cada uma\n",
        "print(combustiveis_df.info())"
      ],
      "metadata": {
        "id": "UhQSd85CKmAQ"
      },
      "execution_count": null,
      "outputs": []
    },
    {
      "cell_type": "code",
      "source": [
        "#filtrar apenas por uma coluna\n",
        "display(combustiveis_df['Revenda'])"
      ],
      "metadata": {
        "id": "rtvSwP_FYUBd"
      },
      "execution_count": null,
      "outputs": []
    },
    {
      "cell_type": "code",
      "source": [
        "ca_df = combustiveis_df[['Revenda', 'Municipio', 'Produto', 'Valor de Venda']]\n",
        "\n",
        "display(ca_df)"
      ],
      "metadata": {
        "id": "TFWpXrL3ZlUs"
      },
      "execution_count": null,
      "outputs": []
    },
    {
      "cell_type": "code",
      "source": [
        "#exibe a 4a linha\n",
        "display(ca_df.loc[3])"
      ],
      "metadata": {
        "id": "bf_BXJYYcCZZ"
      },
      "execution_count": null,
      "outputs": []
    },
    {
      "cell_type": "code",
      "source": [
        "#se quiser exibir da 10a linha ate a 20a\n",
        "display(ca_df.loc[9:19])"
      ],
      "metadata": {
        "id": "vwqnTVtjc5kh"
      },
      "execution_count": null,
      "outputs": []
    },
    {
      "cell_type": "code",
      "source": [
        "#criar uma dataframe(df) gas_df contendo\n",
        "#apenas as 4 colunas (revenda, municipio, produto, valor de venda)\n",
        "#somente com combustivel sendo gasolina e exibir na tela\n",
        "\n",
        "gas_df = ca_df.loc[ca_df['Produto'] == 'GASOLINA']\n",
        "\n",
        "display(gas_df)\n",
        "\n",
        "display(gas_df['Valor de Venda'].max())"
      ],
      "metadata": {
        "id": "3pwo2GWBeac0"
      },
      "execution_count": null,
      "outputs": []
    },
    {
      "cell_type": "code",
      "source": [
        "#se eu quiser saber qual o posto e municipio da gasolina mais cara do país\n",
        "display(gas_df[['Revenda','Municipio', 'Valor de Venda']].max())"
      ],
      "metadata": {
        "id": "En8ho_ZjhM-y"
      },
      "execution_count": null,
      "outputs": []
    },
    {
      "cell_type": "code",
      "source": [
        "#data.frame.loc[] com múltiplas condições para filtragem\n",
        "#quais são os preços de ETANOl na minha cidade (BELO HORIZONTE)\n",
        "#pegar os valores do menor para o maior\n",
        "\n",
        "etanol_bh_df = ca_df.loc[(ca_df['Produto'] == 'ETANOL') & (ca_df['Municipio'] == 'BELO HORIZONTE')]\n",
        "etanol_bh_df.sort_values(by='Valor de Venda', inplace=True)\n",
        "display(etanol_bh_df)"
      ],
      "metadata": {
        "id": "Xwq_FnvHJfRo"
      },
      "execution_count": null,
      "outputs": []
    },
    {
      "cell_type": "code",
      "source": [
        "#qual a media de preços dos combustiveis GASOLINA e GASOLINA ADITIVADA do bairro\n",
        "#MOOCA, SÂO PAULO\n",
        "display(combustiveis_df.loc[(combustiveis_df['Bairro'] == 'MOOCA') & \n",
        "                            (combustiveis_df['Municipio'] == 'SAO PAULO') & \n",
        "                            ((combustiveis_df['Produto'] == 'GASOLINA') | (combustiveis_df['Produto'] == 'GASOLINA ADITIVADA')), \n",
        "                            ['Valor de Venda']].mean())\n",
        "\n"
      ],
      "metadata": {
        "id": "E9Ep1G_7OUlJ"
      },
      "execution_count": null,
      "outputs": []
    },
    {
      "cell_type": "code",
      "source": [
        "#Como mostrar a média de valor de venda POR COMBUSTÍVEL Brasil todo?\n",
        "\n",
        "media_por_combustivel_df = ca_df[['Produto', 'Valor de Venda']].groupby(by='Produto').mean().round(2)\n",
        "\n",
        "display(media_por_combustivel_df)"
      ],
      "metadata": {
        "id": "SAiwv5aFf9pn"
      },
      "execution_count": null,
      "outputs": []
    },
    {
      "cell_type": "code",
      "source": [
        "#quero adicionar uma coluna booleana no combustivel_df chamada \"Ativo\" \n",
        "#que por padrão vai ser TRUE para todas as linhas\n",
        "\n",
        "combustiveis_df['Ativo'] = True\n",
        "print(combustiveis_df.info())\n",
        "display(combustiveis_df.head(10))"
      ],
      "metadata": {
        "id": "n0YUNCIoj1bV"
      },
      "execution_count": null,
      "outputs": []
    },
    {
      "cell_type": "code",
      "source": [
        "#e se eu quiser ua coluna nova chamada \"Obs\"\n",
        "# que preencha automaticamente \"MELHOR CIDADE\"\n",
        "#quando o municipio for BELO HORIZONTE, MG\n",
        "\n",
        "#combustiveis_df['Obs'] = \"MELHOR CIDADE\" if combustiveis_df['Municipio'] == \"BELO HORIZONTE\" else \"\" \n"
      ],
      "metadata": {
        "id": "YnxyaK0QmV9g"
      },
      "execution_count": 37,
      "outputs": []
    },
    {
      "cell_type": "code",
      "source": [
        "# Exportar para Excel o df com etanal em Belo Horizonte\n",
        "\n",
        "etanol_bh_df.to_excel('etanol_belo_horizonte.xlsx', sheet_name='Etanol em Belo Horizonte')"
      ],
      "metadata": {
        "id": "l-t45aaEnYb9"
      },
      "execution_count": 38,
      "outputs": []
    }
  ]
}