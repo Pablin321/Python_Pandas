{
  "nbformat": 4,
  "nbformat_minor": 0,
  "metadata": {
    "colab": {
      "provenance": [],
      "authorship_tag": "ABX9TyNkZmB16sJ22gvN+Jt5UN+v",
      "include_colab_link": true
    },
    "kernelspec": {
      "name": "python3",
      "display_name": "Python 3"
    },
    "language_info": {
      "name": "python"
    }
  },
  "cells": [
    {
      "cell_type": "markdown",
      "metadata": {
        "id": "view-in-github",
        "colab_type": "text"
      },
      "source": [
        "<a href=\"https://colab.research.google.com/github/Pablin321/Python_Pandas/blob/main/Segundo_Exemplo_em_Python_Pandas.ipynb\" target=\"_parent\"><img src=\"https://colab.research.google.com/assets/colab-badge.svg\" alt=\"Open In Colab\"/></a>"
      ]
    },
    {
      "cell_type": "markdown",
      "source": [
        "Segundo exemplo de Manipulação de dados usando Python Pandas. Veremos inserção de dados, remoção de colunas, marge, gráficos\n",
        "\n",
        "Autor: Pablo Souza Martins\n",
        "\n",
        "Data: 9 e 10 de fevereiro de 2023"
      ],
      "metadata": {
        "id": "oLouvKgRRljU"
      }
    },
    {
      "cell_type": "code",
      "execution_count": null,
      "metadata": {
        "id": "Sh6_HyuQRdsY"
      },
      "outputs": [],
      "source": [
        "# Importando a biblioteca\n",
        "\n",
        "import pandas as pd\n",
        "combustiveis_df = pd.read_excel(\"ca-2021-02.xlsx\")\n",
        "\n",
        "display(combustiveis_df.head())"
      ]
    },
    {
      "cell_type": "code",
      "source": [
        "# Inserção simples de dados\n",
        "\n",
        "combustiveis_df['Ativo'] = True\n",
        "\n",
        "display(combustiveis_df.head())"
      ],
      "metadata": {
        "id": "gluwdhSVTJ7A"
      },
      "execution_count": null,
      "outputs": []
    },
    {
      "cell_type": "code",
      "source": [
        "# Criar uma coluna escrito 'Obs' que tenha escrito 'MELHOR CIDADE' no municipio de Belo Horizonte\n",
        "\n",
        "combustiveis_df['Obs'] = ['MELHOR CIDADE' if municipio == 'BELO HORIZONTE' else '' for municipio in combustiveis_df['Municipio']]\n",
        "\n",
        "display(combustiveis_df[['Municipio', 'Obs']].loc[combustiveis_df['Municipio'].isin(['BELO HORIZONTE', 'CAMPINAS', 'SALTO'])])\n"
      ],
      "metadata": {
        "id": "tWqNREWKTeZV"
      },
      "execution_count": null,
      "outputs": []
    },
    {
      "cell_type": "code",
      "source": [
        "#Por Leandro Rodrigues\n",
        "#Como preencher uma coluna 'Valor de Venda - Status' que verifica o seguinte:\n",
        "#Se o valor de venda for maior que 6,5, ele fala que ta caro, caso contrario, esta barato.\n",
        "import numpy as np\n",
        "\n",
        "combustiveis_df['Valor de Venda - Status'] = np.where(combustiveis_df['Valor de Venda']> 6.5, 'Caro', 'Barato')\n",
        "display(combustiveis_df[['Revenda', 'Valor de Venda', 'Valor de Venda - Status']])"
      ],
      "metadata": {
        "id": "OlLhdJ1sWKpo"
      },
      "execution_count": null,
      "outputs": []
    },
    {
      "cell_type": "code",
      "source": [
        "# Calcular postos por habitantes na amostragem de combustiveis nov/2021\n",
        "\n",
        "num_habitantes_df = pd.read_csv(\"ibge_num_habitantes_estimado.csv\", sep=\";\")\n",
        "num_habitantes_df.rename(columns = {\"Estado\":\"Estado - Sigla\"}, inplace=True)\n",
        "display(num_habitantes_df)"
      ],
      "metadata": {
        "id": "QMuMM5MNZqwV"
      },
      "execution_count": null,
      "outputs": []
    },
    {
      "cell_type": "code",
      "source": [
        "#Fazer um MERGE dos dois dataframes-df\n",
        "\n",
        "colunas = ['Municipio', 'Estado - Sigla']\n",
        "merge_df = combustiveis_df.merge(num_habitantes_df, how=\"inner\", on=colunas)\n",
        "\n",
        "display(merge_df)\n",
        "print(merge_df.info())"
      ],
      "metadata": {
        "id": "09sXcbD1fcn6"
      },
      "execution_count": null,
      "outputs": []
    },
    {
      "cell_type": "code",
      "source": [
        "#Destruir colunas vazias\n",
        "\n",
        "merge_df.dropna(axis='columns' , inplace=True)\n",
        "print(merge_df.info())"
      ],
      "metadata": {
        "colab": {
          "base_uri": "https://localhost:8080/"
        },
        "id": "RluzDMPCqEWz",
        "outputId": "8d69c467-db80-4998-87ba-80c7e6db726d"
      },
      "execution_count": 34,
      "outputs": [
        {
          "output_type": "stream",
          "name": "stdout",
          "text": [
            "<class 'pandas.core.frame.DataFrame'>\n",
            "Int64Index: 20634 entries, 0 to 20633\n",
            "Data columns (total 18 columns):\n",
            " #   Column                   Non-Null Count  Dtype         \n",
            "---  ------                   --------------  -----         \n",
            " 0   Regiao - Sigla           20634 non-null  object        \n",
            " 1   Estado - Sigla           20634 non-null  object        \n",
            " 2   Municipio                20634 non-null  object        \n",
            " 3   Revenda                  20634 non-null  object        \n",
            " 4   CNPJ da Revenda          20634 non-null  object        \n",
            " 5   Nome da Rua              20634 non-null  object        \n",
            " 6   Numero Rua               20634 non-null  object        \n",
            " 7   Bairro                   20634 non-null  object        \n",
            " 8   Cep                      20634 non-null  object        \n",
            " 9   Produto                  20634 non-null  object        \n",
            " 10  Data da Coleta           20634 non-null  datetime64[ns]\n",
            " 11  Valor de Venda           20634 non-null  float64       \n",
            " 12  Unidade de Medida        20634 non-null  object        \n",
            " 13  Bandeira                 20634 non-null  object        \n",
            " 14  Ativo                    20634 non-null  bool          \n",
            " 15  Obs                      20634 non-null  object        \n",
            " 16  Valor de Venda - Status  20634 non-null  object        \n",
            " 17  NumHabitantes2021        20634 non-null  int64         \n",
            "dtypes: bool(1), datetime64[ns](1), float64(1), int64(1), object(14)\n",
            "memory usage: 2.9+ MB\n",
            "None\n"
          ]
        }
      ]
    },
    {
      "cell_type": "code",
      "source": [
        "colunas=['Nome da Rua', 'Regiao - Sigla', 'Numero Rua', 'Bairro', 'Cep',\n",
        "         'Produto', 'Data da Coleta', 'Valor de Venda', 'Unidade de Medida',\n",
        "         'Bandeira', 'Ativo', 'Valor de Venda - Status', 'Obs']\n",
        "\n",
        "merge_df.drop( labels=colunas , axis=1, inplace=True)\n",
        "print(merge_df.info())"
      ],
      "metadata": {
        "id": "u7r_Waymr5vH"
      },
      "execution_count": null,
      "outputs": []
    },
    {
      "cell_type": "code",
      "source": [
        "# Remover as linhas duplicadas\n",
        "merge_df.drop_duplicates(inplace=True)\n",
        "display(merge_df.head(100))"
      ],
      "metadata": {
        "id": "ad5MuMUYuOoA"
      },
      "execution_count": null,
      "outputs": []
    },
    {
      "cell_type": "code",
      "source": [
        "# Agrupar e contar quantos postas tem na cidade\n",
        "\n",
        "postos_por_municipio_df = merge_df.groupby(by=['Estado - Sigla', 'Municipio', 'NumHabitantes2021']).count()\n",
        "postos_por_municipio_df.rename(columns={\"Revenda\":\"Número de Postos\"}, inplace=True)\n",
        "postos_por_municipio_df.info()\n",
        "display(postos_por_municipio_df)\n",
        "\n"
      ],
      "metadata": {
        "id": "jA0b9SQNvFYI"
      },
      "execution_count": null,
      "outputs": []
    },
    {
      "cell_type": "code",
      "source": [
        "# Dividir numero de postos por numero de habitantes\n",
        "\n",
        "postos_por_municipio_df['PostosPorHabitantes'] = postos_por_municipio_df[\"Número de Postos\"] / postos_por_municipio_df[\"NumHabitantes2021\"]\n",
        "\n",
        "display(postos_por_municipio_df)"
      ],
      "metadata": {
        "id": "4wno80-ow2fk"
      },
      "execution_count": null,
      "outputs": []
    }
  ]
}